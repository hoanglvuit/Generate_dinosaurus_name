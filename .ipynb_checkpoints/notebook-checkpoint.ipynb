{
 "cells": [
  {
   "cell_type": "code",
   "execution_count": 41,
   "id": "7b27bff5-3254-4184-9e04-4722bad9c5c4",
   "metadata": {},
   "outputs": [
    {
     "ename": "ImportError",
     "evalue": "attempted relative import with no known parent package",
     "output_type": "error",
     "traceback": [
      "\u001b[1;31m---------------------------------------------------------------------------\u001b[0m",
      "\u001b[1;31mImportError\u001b[0m                               Traceback (most recent call last)",
      "Cell \u001b[1;32mIn[41], line 4\u001b[0m\n\u001b[0;32m      2\u001b[0m \u001b[38;5;28;01mimport\u001b[39;00m \u001b[38;5;21;01mrandom\u001b[39;00m \n\u001b[0;32m      3\u001b[0m \u001b[38;5;28;01mimport\u001b[39;00m \u001b[38;5;21;01mcopy\u001b[39;00m\n\u001b[1;32m----> 4\u001b[0m \u001b[38;5;28;01mfrom\u001b[39;00m \u001b[38;5;21;01m.\u001b[39;00m\u001b[38;5;21;01m.\u001b[39;00m\u001b[38;5;21;01mutils\u001b[39;00m \u001b[38;5;28;01mimport\u001b[39;00m initialize_parameters\n",
      "\u001b[1;31mImportError\u001b[0m: attempted relative import with no known parent package"
     ]
    }
   ],
   "source": [
    "import numpy as np\n",
    "import random \n",
    "import copy\n",
    "from utils import initialize_parameters"
   ]
  },
  {
   "cell_type": "code",
   "execution_count": 36,
   "id": "e3487297-6ce1-4a4e-8267-442c8b625d30",
   "metadata": {},
   "outputs": [
    {
     "name": "stdout",
     "output_type": "stream",
     "text": [
      "19909\n",
      "<class 'str'>\n",
      "27\n",
      "['b', 'r', '\\n', 'q', 'z', 'i', 'y', 'u', 'f', 'd', 't', 'k', 'o', 'h', 'x', 'e', 'm', 'p', 'w', 'a', 'v', 'g', 'n', 'l', 'j', 's', 'c']\n"
     ]
    }
   ],
   "source": [
    "data = open('dinos.txt','r').read() \n",
    "data = data.lower() \n",
    "chars = list(set(data)) \n",
    "data_size, vocab_size = len(data) , len(chars) \n",
    "print(data_size) \n",
    "print(type(data))\n",
    "print(vocab_size) \n",
    "print(chars)"
   ]
  },
  {
   "cell_type": "code",
   "execution_count": 29,
   "id": "1e835d25-f1b4-4d75-98de-99f806402d16",
   "metadata": {},
   "outputs": [
    {
     "name": "stdout",
     "output_type": "stream",
     "text": [
      "['\\n', 'a', 'b', 'c', 'd', 'e', 'f', 'g', 'h', 'i', 'j', 'k', 'l', 'm', 'n', 'o', 'p', 'q', 'r', 's', 't', 'u', 'v', 'w', 'x', 'y', 'z']\n"
     ]
    }
   ],
   "source": [
    "chars = sorted(chars) \n",
    "print(chars)"
   ]
  },
  {
   "cell_type": "code",
   "execution_count": 30,
   "id": "1e60d08a-47e9-4d92-83c1-b5bf74a6f051",
   "metadata": {},
   "outputs": [
    {
     "name": "stdout",
     "output_type": "stream",
     "text": [
      "{'\\n': 0, 'a': 1, 'b': 2, 'c': 3, 'd': 4, 'e': 5, 'f': 6, 'g': 7, 'h': 8, 'i': 9, 'j': 10, 'k': 11, 'l': 12, 'm': 13, 'n': 14, 'o': 15, 'p': 16, 'q': 17, 'r': 18, 's': 19, 't': 20, 'u': 21, 'v': 22, 'w': 23, 'x': 24, 'y': 25, 'z': 26}\n"
     ]
    }
   ],
   "source": [
    "char_to_ix = {ch:ix for ix,ch in enumerate(chars)}\n",
    "ix_to_char = {ix:ch for ix,ch in enumerate(chars)} \n",
    "print(char_to_ix)"
   ]
  },
  {
   "cell_type": "code",
   "execution_count": 31,
   "id": "bc670f9d-fe67-4862-bab1-88afd51d76a7",
   "metadata": {},
   "outputs": [],
   "source": [
    "def clip(gradient,maxVa) : \n",
    "    gradients = copy.deepcopy(gradients) \n",
    "    dWaa, dWax, dWya, db, dby = gradients['dWaa'], gradients['dWax'], gradients['dWya'], gradients['db'], gradients['dby']\n",
    "    for gradient in [dWaa, dWax, dWya, db, dby] : \n",
    "        np.clip(gradient,-maxVa,maxVa,out=gradient) \n",
    "    gradients = {\"dWaa\": dWaa, \"dWax\": dWax, \"dWya\": dWya, \"db\": db, \"dby\": dby}\n",
    "    return gradients \n",
    "    "
   ]
  },
  {
   "cell_type": "code",
   "execution_count": 32,
   "id": "1dda9445-bf56-42cc-a0c8-16e5d6da44c8",
   "metadata": {},
   "outputs": [],
   "source": [
    "def optimize(X,Y,a_prev,parameters,lr) : \n",
    "    value_clip = 5\n",
    "    loss,cache = rnn_forward(X,Y,a_prev,parameters) \n",
    "    gradients,a = rnn_backward(X,Y,parameters,cache) \n",
    "    gradient = clip(gradient,value_clip) \n",
    "    parameters = update_parameters(parameters,gradients,lr) \n",
    "    return loss,gradients,a[len(X)-1]\n"
   ]
  },
  {
   "cell_type": "code",
   "execution_count": 33,
   "id": "fdef3c34-9a5a-4871-aa8f-961d734fa28e",
   "metadata": {},
   "outputs": [],
   "source": [
    "def model(data_x,ix_to_char,char_to_ix,num_iterations = 35000, n_a = 50,dino_names = 7, vocab_size=27, verbose = False) : \n",
    "    n_x, n_y = vocab_size, vocab_size \n",
    "    parameters = initialize_parameters(n_a,n_x,n_y)\n",
    "    losses = []\n",
    "    loss = initialize_loss(vocab_size,dino_names) \n",
    "    examples = [x.strip() for x in data_x] \n",
    "    np.random.seed(0) \n",
    "    np.random.suffle(examples) \n",
    "    a_prev = np.zeros((n_a,1)) \n",
    "    for j in range(num_iterations) : \n",
    "        # each iteration, train with only a example \n",
    "        idx = j % len(examples) \n",
    "        single_example = examples[idx] \n",
    "        single_example_char = [c for c in single_example] \n",
    "        single_example_ix = [char_to_ix[c] for c in single_example_char] \n",
    "        # Add none to it learn probability for first char. \n",
    "        X = [None] + single_example_ix \n",
    "        # Create Y \n",
    "        ix_newline = char_to_ix['\\n'] \n",
    "        Y = singple_example_ix + [ix_newline]\n",
    "        curr_loss, gradients, a_prev = optimize(X,Y,a_prev,parameters,lr = 0.01) \n",
    "        losses.append(curr_loss) \n",
    "    return paramerters \n",
    "        "
   ]
  },
  {
   "cell_type": "code",
   "execution_count": 34,
   "id": "4e5bf61f-cc2b-425f-9725-06f3367a12bb",
   "metadata": {},
   "outputs": [
    {
     "ename": "NameError",
     "evalue": "name 'initialize_parameters' is not defined",
     "output_type": "error",
     "traceback": [
      "\u001b[1;31m---------------------------------------------------------------------------\u001b[0m",
      "\u001b[1;31mNameError\u001b[0m                                 Traceback (most recent call last)",
      "Cell \u001b[1;32mIn[34], line 1\u001b[0m\n\u001b[1;32m----> 1\u001b[0m parameters \u001b[38;5;241m=\u001b[39m \u001b[43mmodel\u001b[49m\u001b[43m(\u001b[49m\u001b[43mdata\u001b[49m\u001b[43m,\u001b[49m\u001b[43mix_to_char\u001b[49m\u001b[43m,\u001b[49m\u001b[43mchar_to_ix\u001b[49m\u001b[43m)\u001b[49m\n",
      "Cell \u001b[1;32mIn[33], line 3\u001b[0m, in \u001b[0;36mmodel\u001b[1;34m(data_x, ix_to_char, char_to_ix, num_iterations, n_a, dino_names, vocab_size, verbose)\u001b[0m\n\u001b[0;32m      1\u001b[0m \u001b[38;5;28;01mdef\u001b[39;00m \u001b[38;5;21mmodel\u001b[39m(data_x,ix_to_char,char_to_ix,num_iterations \u001b[38;5;241m=\u001b[39m \u001b[38;5;241m35000\u001b[39m, n_a \u001b[38;5;241m=\u001b[39m \u001b[38;5;241m50\u001b[39m,dino_names \u001b[38;5;241m=\u001b[39m \u001b[38;5;241m7\u001b[39m, vocab_size\u001b[38;5;241m=\u001b[39m\u001b[38;5;241m27\u001b[39m, verbose \u001b[38;5;241m=\u001b[39m \u001b[38;5;28;01mFalse\u001b[39;00m) : \n\u001b[0;32m      2\u001b[0m     n_x, n_y \u001b[38;5;241m=\u001b[39m vocab_size, vocab_size \n\u001b[1;32m----> 3\u001b[0m     parameters \u001b[38;5;241m=\u001b[39m \u001b[43minitialize_parameters\u001b[49m(n_a,n_x,n_y)\n\u001b[0;32m      4\u001b[0m     losses \u001b[38;5;241m=\u001b[39m []\n\u001b[0;32m      5\u001b[0m     loss \u001b[38;5;241m=\u001b[39m initialize_loss(vocab_size,dino_names) \n",
      "\u001b[1;31mNameError\u001b[0m: name 'initialize_parameters' is not defined"
     ]
    }
   ],
   "source": [
    "parameters = model(data,ix_to_char,char_to_ix)"
   ]
  },
  {
   "cell_type": "code",
   "execution_count": null,
   "id": "d30422aa-e0f3-4b45-ae82-7cddbc02533f",
   "metadata": {},
   "outputs": [],
   "source": []
  }
 ],
 "metadata": {
  "kernelspec": {
   "display_name": "Python 3 (ipykernel)",
   "language": "python",
   "name": "python3"
  },
  "language_info": {
   "codemirror_mode": {
    "name": "ipython",
    "version": 3
   },
   "file_extension": ".py",
   "mimetype": "text/x-python",
   "name": "python",
   "nbconvert_exporter": "python",
   "pygments_lexer": "ipython3",
   "version": "3.11.4"
  }
 },
 "nbformat": 4,
 "nbformat_minor": 5
}
